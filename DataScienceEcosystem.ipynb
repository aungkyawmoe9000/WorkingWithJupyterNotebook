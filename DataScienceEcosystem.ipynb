{
  "metadata": {
    "kernelspec": {
      "name": "python",
      "display_name": "Python (Pyodide)",
      "language": "python"
    },
    "language_info": {
      "codemirror_mode": {
        "name": "python",
        "version": 3
      },
      "file_extension": ".py",
      "mimetype": "text/x-python",
      "name": "python",
      "nbconvert_exporter": "python",
      "pygments_lexer": "ipython3",
      "version": "3.8"
    }
  },
  "nbformat_minor": 5,
  "nbformat": 4,
  "cells": [
    {
      "id": "f993f300-7398-46ff-9327-16445535c189",
      "cell_type": "markdown",
      "source": "# Data Science Tools and Ecosystem",
      "metadata": {}
    },
    {
      "id": "69d7c563-722e-4450-986c-1b6e4a5d74da",
      "cell_type": "markdown",
      "source": "In this notebook, Data Science Tools and Ecosystem are summarized.",
      "metadata": {}
    },
    {
      "id": "e2439ec5-5f33-4751-b176-98d8215e1465",
      "cell_type": "markdown",
      "source": "Some of the popular languages that Data Scientists use are:\n1) Python\n2) R\n3) Julia",
      "metadata": {}
    },
    {
      "id": "ffff4376-5699-43b3-bb5c-a2379102ea6a",
      "cell_type": "markdown",
      "source": "Some of the commonly used libraries used by Data Scientists include:\n1) NumPy\n2) Matplotlib\n3) TensorFlow",
      "metadata": {}
    },
    {
      "id": "707f5f8d-432a-49b6-85a6-5a19726db8f7",
      "cell_type": "markdown",
      "source": "| Data Science Tools |\n| ------------------ |\n| Jupyter Notebook |\n| Google Colab |\n| VS Code |",
      "metadata": {}
    },
    {
      "id": "5b6922d5-1101-4015-b81a-0abd754f227f",
      "cell_type": "markdown",
      "source": "### Below are a few examples of evaluating arithmetic expressions in Python\n$ (3+2) \\times 5 $",
      "metadata": {}
    },
    {
      "id": "4a2c22ad-0c61-4eaf-a0bf-b08c1e596e72",
      "cell_type": "code",
      "source": "# This a simple arithmetic expression to mutiply then add integers\n(3*4)+5",
      "metadata": {
        "trusted": true
      },
      "outputs": [
        {
          "execution_count": 4,
          "output_type": "execute_result",
          "data": {
            "text/plain": "17"
          },
          "metadata": {}
        }
      ],
      "execution_count": 4
    },
    {
      "id": "082a9dc5-3543-4630-b89a-0d49b54ebc01",
      "cell_type": "code",
      "source": "# This will convert 200 minutes to hours by diving by 60\nstr(int(200/60)) + \" hours\"",
      "metadata": {
        "trusted": true
      },
      "outputs": [
        {
          "execution_count": 10,
          "output_type": "execute_result",
          "data": {
            "text/plain": "'3 hours'"
          },
          "metadata": {}
        }
      ],
      "execution_count": 10
    },
    {
      "id": "b6e8800f-6a35-4cb2-8bd8-fecc0add9039",
      "cell_type": "markdown",
      "source": "**Objective**  \n__Popular languages for data sciences__\n- Python\n- R\n- Julia\n- Scalar\n- Java",
      "metadata": {}
    },
    {
      "id": "42e92d71-f74a-48df-819c-30a65cdede61",
      "cell_type": "markdown",
      "source": "## Author\nAung Kyaw Moe",
      "metadata": {}
    },
    {
      "id": "72c97c23-0bf2-4716-953e-7ec971ae1bb3",
      "cell_type": "code",
      "source": "",
      "metadata": {
        "trusted": true
      },
      "outputs": [],
      "execution_count": null
    }
  ]
}